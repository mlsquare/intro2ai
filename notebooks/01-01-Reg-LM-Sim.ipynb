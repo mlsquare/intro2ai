{
 "cells": [
  {
   "cell_type": "markdown",
   "metadata": {},
   "source": [
    "# Regression\n",
    "\n",
    "A notebook to implement a pretty simple model to learn about Linear Regression."
   ]
  },
  {
   "cell_type": "markdown",
   "metadata": {},
   "source": [
    "## Generate Data\n",
    "\n",
    "Here, we will generate a data with known function, i.e., we will simulate data. The new term for this is _Generative AI_ :). The advantage is, we exactly know the model. So, we will know if our understanding is correct.\n",
    "\n",
    "Simulation is a very powerful technique when we are developing new theory or implementing a known theory. The ground truth is known, so we check our understaning, can debug if things do not go as expected.\n",
    "\n",
    "Here, we will consider the following model."
   ]
  },
  {
   "cell_type": "markdown",
   "metadata": {},
   "source": [
    "$$\n",
    "y = -1 + 2x_1 + 3x_3\n",
    "$$"
   ]
  }
 ],
 "metadata": {
  "kernelspec": {
   "display_name": "ai839",
   "language": "python",
   "name": "python3"
  },
  "language_info": {
   "codemirror_mode": {
    "name": "ipython",
    "version": 3
   },
   "file_extension": ".py",
   "mimetype": "text/x-python",
   "name": "python",
   "nbconvert_exporter": "python",
   "pygments_lexer": "ipython3",
   "version": "3.10.15"
  }
 },
 "nbformat": 4,
 "nbformat_minor": 2
}
